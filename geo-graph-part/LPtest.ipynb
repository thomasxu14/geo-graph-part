{
 "cells": [
  {
   "cell_type": "code",
   "execution_count": 3,
   "metadata": {},
   "outputs": [
    {
     "name": "stdout",
     "output_type": "stream",
     "text": [
      "[[ 0.   23.18 59.49 27.1  44.87]\n",
      " [23.18  0.    0.   81.04 80.69]\n",
      " [59.49  0.    0.   22.33 30.74]\n",
      " [27.1  81.04 22.33  0.   19.97]\n",
      " [44.87 80.69 30.74 19.97  0.  ]]\n"
     ]
    }
   ],
   "source": [
    "import random\n",
    "import numpy as np\n",
    "\n",
    "random.seed(12400)\n",
    "\n",
    "nClusters = 5\n",
    "clusters = range(nClusters)\n",
    "tolerance = 0.2\n",
    "\n",
    "costexp = 30\n",
    "coststdd = 30\n",
    "\n",
    "cost = [[0 for c1 in range(nClusters)] for c2 in range(nClusters)]\n",
    "for c1 in range(nClusters):\n",
    "    for c2 in range(c1+1, nClusters):\n",
    "        cost[c1][c2] = max(round(random.gauss(costexp, coststdd),2),0)\n",
    "        cost[c2][c1] = cost[c1][c2]\n",
    "cost = np.array(cost)\n",
    "\n",
    "# cost = np.array([[0., 1.], [1.,0.]])\n",
    "\n",
    "print(cost)"
   ]
  },
  {
   "cell_type": "code",
   "execution_count": 4,
   "metadata": {},
   "outputs": [
    {
     "name": "stdout",
     "output_type": "stream",
     "text": [
      "Number of variables = 810\n",
      "Number of constraints = 2127\n",
      "Optimal objective value = 57\n",
      "\n",
      "Placement:\n",
      "Total cost: 57.0451\n"
     ]
    }
   ],
   "source": [
    "import igraph as ig\n",
    "# import erdosrenyi as gdat\n",
    "import data.testgraph3 as gdat\n",
    "from data.graph_generator import *\n",
    "from LP import partitionLP\n",
    "\n",
    "nData = 15\n",
    "nTasks = 7\n",
    "edgeProb = 0.2\n",
    "\n",
    "\n",
    "outgoingEdges = 2\n",
    "\n",
    "avgDataDep = 4\n",
    "stddDataDep = 1.5\n",
    "\n",
    "g = gdat.g\n",
    "# g = generate_barabasi(nData + nTasks, outgoingEdges)\n",
    "g = generate_realistic(nData, nTasks, avgDataDep, stddDataDep)\n",
    "# ig.plot(g)\n",
    "color_dict_vertex = {0: \"blue\", 1: \"red\", 2: \"green\", 3: \"pink\", 4: \"orange\" }\n",
    "(placement, visual_style) = partitionLP(cost, nClusters, g, tolerance, color_dict_vertex, relaxed=1)"
   ]
  },
  {
   "cell_type": "code",
   "execution_count": 5,
   "metadata": {},
   "outputs": [
    {
     "data": {
      "image/svg+xml": [
       "<?xml version=\"1.0\" encoding=\"UTF-8\"?>\n",
       "<svg xmlns=\"http://www.w3.org/2000/svg\" xmlns:xlink=\"http://www.w3.org/1999/xlink\" width=\"400pt\" height=\"400pt\" viewBox=\"0 0 400 400\" version=\"1.1\">\n",
       "<g id=\"surface4\">\n",
       "<rect x=\"0\" y=\"0\" width=\"400\" height=\"400\" style=\"fill:rgb(100%,100%,100%);fill-opacity:1;stroke:none;\"/>\n",
       "<path style=\"fill:none;stroke-width:1;stroke-linecap:butt;stroke-linejoin:miter;stroke:rgb(0%,0%,0%);stroke-opacity:1;stroke-miterlimit:10;\" d=\"M 143.199219 291.558594 L 201.324219 292.96875 \"/>\n",
       "<path style=\"fill:none;stroke-width:1;stroke-linecap:butt;stroke-linejoin:miter;stroke:rgb(0%,0%,0%);stroke-opacity:1;stroke-miterlimit:10;\" d=\"M 181.714844 245.640625 L 201.324219 292.96875 \"/>\n",
       "<path style=\"fill:none;stroke-width:1;stroke-linecap:butt;stroke-linejoin:miter;stroke:rgb(0%,0%,0%);stroke-opacity:1;stroke-miterlimit:10;\" d=\"M 183.089844 340 L 201.324219 292.96875 \"/>\n",
       "<path style=\"fill:none;stroke-width:1;stroke-linecap:butt;stroke-linejoin:miter;stroke:rgb(0%,100%,0%);stroke-opacity:1;stroke-miterlimit:10;\" d=\"M 265.597656 246.238281 L 201.324219 292.96875 \"/>\n",
       "<path style=\"fill:none;stroke-width:1;stroke-linecap:butt;stroke-linejoin:miter;stroke:rgb(0%,100%,0%);stroke-opacity:1;stroke-miterlimit:10;\" d=\"M 237.46875 318.292969 L 201.324219 292.96875 \"/>\n",
       "<path style=\"fill:none;stroke-width:1;stroke-linecap:butt;stroke-linejoin:miter;stroke:rgb(0%,0%,100%);stroke-opacity:1;stroke-miterlimit:10;\" d=\"M 178.773438 130.449219 L 207.628906 97.894531 \"/>\n",
       "<path style=\"fill:none;stroke-width:1;stroke-linecap:butt;stroke-linejoin:miter;stroke:rgb(0%,0%,100%);stroke-opacity:1;stroke-miterlimit:10;\" d=\"M 203.054688 60 L 207.628906 97.894531 \"/>\n",
       "<path style=\"fill:none;stroke-width:1;stroke-linecap:butt;stroke-linejoin:miter;stroke:rgb(0%,0%,0%);stroke-opacity:1;stroke-miterlimit:10;\" d=\"M 237.136719 137.640625 L 207.628906 97.894531 \"/>\n",
       "<path style=\"fill:none;stroke-width:1;stroke-linecap:butt;stroke-linejoin:miter;stroke:rgb(0%,100%,0%);stroke-opacity:1;stroke-miterlimit:10;\" d=\"M 238.339844 224.488281 L 226.226563 272.53125 \"/>\n",
       "<path style=\"fill:none;stroke-width:1;stroke-linecap:butt;stroke-linejoin:miter;stroke:rgb(0%,100%,0%);stroke-opacity:1;stroke-miterlimit:10;\" d=\"M 237.46875 318.292969 L 226.226563 272.53125 \"/>\n",
       "<path style=\"fill:none;stroke-width:1;stroke-linecap:butt;stroke-linejoin:miter;stroke:rgb(0%,0%,0%);stroke-opacity:1;stroke-miterlimit:10;\" d=\"M 181.714844 245.640625 L 226.226563 272.53125 \"/>\n",
       "<path style=\"fill:none;stroke-width:1;stroke-linecap:butt;stroke-linejoin:miter;stroke:rgb(0%,0%,0%);stroke-opacity:1;stroke-miterlimit:10;\" d=\"M 340 240.164063 L 293.828125 224.28125 \"/>\n",
       "<path style=\"fill:none;stroke-width:1;stroke-linecap:butt;stroke-linejoin:miter;stroke:rgb(0%,0%,0%);stroke-opacity:1;stroke-miterlimit:10;\" d=\"M 257.289063 185.675781 L 293.828125 224.28125 \"/>\n",
       "<path style=\"fill:none;stroke-width:1;stroke-linecap:butt;stroke-linejoin:miter;stroke:rgb(0%,0%,0%);stroke-opacity:1;stroke-miterlimit:10;\" d=\"M 265.597656 246.238281 L 293.828125 224.28125 \"/>\n",
       "<path style=\"fill:none;stroke-width:1;stroke-linecap:butt;stroke-linejoin:miter;stroke:rgb(0%,0%,0%);stroke-opacity:1;stroke-miterlimit:10;\" d=\"M 238.339844 224.488281 L 293.828125 224.28125 \"/>\n",
       "<path style=\"fill:none;stroke-width:1;stroke-linecap:butt;stroke-linejoin:miter;stroke:rgb(0%,0%,0%);stroke-opacity:1;stroke-miterlimit:10;\" d=\"M 237.136719 137.640625 L 284.875 172.339844 \"/>\n",
       "<path style=\"fill:none;stroke-width:1;stroke-linecap:butt;stroke-linejoin:miter;stroke:rgb(0%,0%,0%);stroke-opacity:1;stroke-miterlimit:10;\" d=\"M 321.613281 139.136719 L 284.875 172.339844 \"/>\n",
       "<path style=\"fill:none;stroke-width:1;stroke-linecap:butt;stroke-linejoin:miter;stroke:rgb(0%,100%,0%);stroke-opacity:1;stroke-miterlimit:10;\" d=\"M 265.597656 246.238281 L 284.875 172.339844 \"/>\n",
       "<path style=\"fill:none;stroke-width:1;stroke-linecap:butt;stroke-linejoin:miter;stroke:rgb(0%,100%,0%);stroke-opacity:1;stroke-miterlimit:10;\" d=\"M 257.289063 185.675781 L 284.875 172.339844 \"/>\n",
       "<path style=\"fill:none;stroke-width:1;stroke-linecap:butt;stroke-linejoin:miter;stroke:rgb(0%,0%,0%);stroke-opacity:1;stroke-miterlimit:10;\" d=\"M 142.1875 198.761719 L 200.027344 183.828125 \"/>\n",
       "<path style=\"fill:none;stroke-width:1;stroke-linecap:butt;stroke-linejoin:miter;stroke:rgb(0%,0%,0%);stroke-opacity:1;stroke-miterlimit:10;\" d=\"M 178.773438 130.449219 L 200.027344 183.828125 \"/>\n",
       "<path style=\"fill:none;stroke-width:1;stroke-linecap:butt;stroke-linejoin:miter;stroke:rgb(0%,0%,0%);stroke-opacity:1;stroke-miterlimit:10;\" d=\"M 257.289063 185.675781 L 200.027344 183.828125 \"/>\n",
       "<path style=\"fill:none;stroke-width:1;stroke-linecap:butt;stroke-linejoin:miter;stroke:rgb(100%,0%,0%);stroke-opacity:1;stroke-miterlimit:10;\" d=\"M 237.136719 137.640625 L 200.027344 183.828125 \"/>\n",
       "<path style=\"fill:none;stroke-width:1;stroke-linecap:butt;stroke-linejoin:miter;stroke:rgb(100%,0%,0%);stroke-opacity:1;stroke-miterlimit:10;\" d=\"M 181.714844 245.640625 L 200.027344 183.828125 \"/>\n",
       "<path style=\"fill:none;stroke-width:1;stroke-linecap:butt;stroke-linejoin:miter;stroke:rgb(0%,0%,0%);stroke-opacity:1;stroke-miterlimit:10;\" d=\"M 238.339844 224.488281 L 200.027344 183.828125 \"/>\n",
       "<path style=\"fill:none;stroke-width:1;stroke-linecap:butt;stroke-linejoin:miter;stroke:rgb(0%,0%,0%);stroke-opacity:1;stroke-miterlimit:10;\" d=\"M 142.1875 198.761719 L 131.578125 246.691406 \"/>\n",
       "<path style=\"fill:none;stroke-width:1;stroke-linecap:butt;stroke-linejoin:miter;stroke:rgb(100%,0%,0%);stroke-opacity:1;stroke-miterlimit:10;\" d=\"M 143.199219 291.558594 L 131.578125 246.691406 \"/>\n",
       "<path style=\"fill:none;stroke-width:1;stroke-linecap:butt;stroke-linejoin:miter;stroke:rgb(100%,0%,0%);stroke-opacity:1;stroke-miterlimit:10;\" d=\"M 181.714844 245.640625 L 131.578125 246.691406 \"/>\n",
       "<path style=\"fill-rule:nonzero;fill:rgb(0%,100%,0%);fill-opacity:1;stroke-width:1;stroke-linecap:butt;stroke-linejoin:miter;stroke:rgb(0%,0%,0%);stroke-opacity:1;stroke-miterlimit:10;\" d=\"M 274.359375 185.675781 C 274.359375 195.101563 266.714844 202.746094 257.289063 202.746094 C 247.859375 202.746094 240.214844 195.101563 240.214844 185.675781 C 240.214844 176.246094 247.859375 168.605469 257.289063 168.605469 C 266.714844 168.605469 274.359375 176.246094 274.359375 185.675781 \"/>\n",
       "<path style=\"fill-rule:nonzero;fill:rgb(0%,100%,0%);fill-opacity:1;stroke-width:1;stroke-linecap:butt;stroke-linejoin:miter;stroke:rgb(0%,0%,0%);stroke-opacity:1;stroke-miterlimit:10;\" d=\"M 283.929688 246.238281 C 283.929688 256.363281 275.722656 264.570313 265.597656 264.570313 C 255.472656 264.570313 247.261719 256.363281 247.261719 246.238281 C 247.261719 236.113281 255.472656 227.902344 265.597656 227.902344 C 275.722656 227.902344 283.929688 236.113281 283.929688 246.238281 \"/>\n",
       "<path style=\"fill-rule:nonzero;fill:rgb(0%,100%,0%);fill-opacity:1;stroke-width:1;stroke-linecap:butt;stroke-linejoin:miter;stroke:rgb(0%,0%,0%);stroke-opacity:1;stroke-miterlimit:10;\" d=\"M 153.957031 198.761719 C 153.957031 205.257813 148.6875 210.527344 142.1875 210.527344 C 135.691406 210.527344 130.421875 205.257813 130.421875 198.761719 C 130.421875 192.261719 135.691406 186.992188 142.1875 186.992188 C 148.6875 186.992188 153.957031 192.261719 153.957031 198.761719 \"/>\n",
       "<path style=\"fill-rule:nonzero;fill:rgb(100%,0%,0%);fill-opacity:1;stroke-width:1;stroke-linecap:butt;stroke-linejoin:miter;stroke:rgb(0%,0%,0%);stroke-opacity:1;stroke-miterlimit:10;\" d=\"M 204.214844 245.640625 C 204.214844 258.066406 194.140625 268.140625 181.714844 268.140625 C 169.289063 268.140625 159.214844 258.066406 159.214844 245.640625 C 159.214844 233.210938 169.289063 223.140625 181.714844 223.140625 C 194.140625 223.140625 204.214844 233.210938 204.214844 245.640625 \"/>\n",
       "<path style=\"fill-rule:nonzero;fill:rgb(0%,0%,100%);fill-opacity:1;stroke-width:1;stroke-linecap:butt;stroke-linejoin:miter;stroke:rgb(0%,0%,0%);stroke-opacity:1;stroke-miterlimit:10;\" d=\"M 220.378906 60 C 220.378906 69.566406 212.625 77.324219 203.054688 77.324219 C 193.488281 77.324219 185.734375 69.566406 185.734375 60 C 185.734375 50.433594 193.488281 42.675781 203.054688 42.675781 C 212.625 42.675781 220.378906 50.433594 220.378906 60 \"/>\n",
       "<path style=\"fill-rule:nonzero;fill:rgb(100%,0%,0%);fill-opacity:1;stroke-width:1;stroke-linecap:butt;stroke-linejoin:miter;stroke:rgb(0%,0%,0%);stroke-opacity:1;stroke-miterlimit:10;\" d=\"M 160.269531 291.558594 C 160.269531 300.988281 152.628906 308.632813 143.199219 308.632813 C 133.773438 308.632813 126.128906 300.988281 126.128906 291.558594 C 126.128906 282.132813 133.773438 274.488281 143.199219 274.488281 C 152.628906 274.488281 160.269531 282.132813 160.269531 291.558594 \"/>\n",
       "<path style=\"fill-rule:nonzero;fill:rgb(100%,0%,0%);fill-opacity:1;stroke-width:1;stroke-linecap:butt;stroke-linejoin:miter;stroke:rgb(0%,0%,0%);stroke-opacity:1;stroke-miterlimit:10;\" d=\"M 248.652344 137.640625 C 248.652344 144 243.496094 149.15625 237.136719 149.15625 C 230.777344 149.15625 225.621094 144 225.621094 137.640625 C 225.621094 131.28125 230.777344 126.128906 237.136719 126.128906 C 243.496094 126.128906 248.652344 131.28125 248.652344 137.640625 \"/>\n",
       "<path style=\"fill-rule:nonzero;fill:rgb(100%,75.294118%,79.607843%);fill-opacity:1;stroke-width:1;stroke-linecap:butt;stroke-linejoin:miter;stroke:rgb(0%,0%,0%);stroke-opacity:1;stroke-miterlimit:10;\" d=\"M 339.945313 139.136719 C 339.945313 149.261719 331.738281 157.46875 321.613281 157.46875 C 311.488281 157.46875 303.28125 149.261719 303.28125 139.136719 C 303.28125 129.011719 311.488281 120.804688 321.613281 120.804688 C 331.738281 120.804688 339.945313 129.011719 339.945313 139.136719 \"/>\n",
       "<path style=\"fill-rule:nonzero;fill:rgb(0%,100%,0%);fill-opacity:1;stroke-width:1;stroke-linecap:butt;stroke-linejoin:miter;stroke:rgb(0%,0%,0%);stroke-opacity:1;stroke-miterlimit:10;\" d=\"M 247.976563 318.292969 C 247.976563 324.097656 243.273438 328.800781 237.46875 328.800781 C 231.667969 328.800781 226.964844 324.097656 226.964844 318.292969 C 226.964844 312.492188 231.667969 307.789063 237.46875 307.789063 C 243.273438 307.789063 247.976563 312.492188 247.976563 318.292969 \"/>\n",
       "<path style=\"fill-rule:nonzero;fill:rgb(0%,0%,100%);fill-opacity:1;stroke-width:1;stroke-linecap:butt;stroke-linejoin:miter;stroke:rgb(0%,0%,0%);stroke-opacity:1;stroke-miterlimit:10;\" d=\"M 195.84375 130.449219 C 195.84375 139.878906 188.199219 147.523438 178.773438 147.523438 C 169.34375 147.523438 161.699219 139.878906 161.699219 130.449219 C 161.699219 121.023438 169.34375 113.378906 178.773438 113.378906 C 188.199219 113.378906 195.84375 121.023438 195.84375 130.449219 \"/>\n",
       "<path style=\"fill-rule:nonzero;fill:rgb(100%,75.294118%,79.607843%);fill-opacity:1;stroke-width:1;stroke-linecap:butt;stroke-linejoin:miter;stroke:rgb(0%,0%,0%);stroke-opacity:1;stroke-miterlimit:10;\" d=\"M 205.085938 340 C 205.085938 352.148438 195.238281 361.996094 183.089844 361.996094 C 170.945313 361.996094 161.097656 352.148438 161.097656 340 C 161.097656 327.851563 170.945313 318.003906 183.089844 318.003906 C 195.238281 318.003906 205.085938 327.851563 205.085938 340 \"/>\n",
       "<path style=\"fill-rule:nonzero;fill:rgb(0%,0%,100%);fill-opacity:1;stroke-width:1;stroke-linecap:butt;stroke-linejoin:miter;stroke:rgb(0%,0%,0%);stroke-opacity:1;stroke-miterlimit:10;\" d=\"M 106.171875 119.808594 C 106.171875 127.980469 99.546875 134.605469 91.371094 134.605469 C 83.199219 134.605469 76.574219 127.980469 76.574219 119.808594 C 76.574219 111.636719 83.199219 105.011719 91.371094 105.011719 C 99.546875 105.011719 106.171875 111.636719 106.171875 119.808594 \"/>\n",
       "<path style=\"fill-rule:nonzero;fill:rgb(0%,0%,100%);fill-opacity:1;stroke-width:1;stroke-linecap:butt;stroke-linejoin:miter;stroke:rgb(0%,0%,0%);stroke-opacity:1;stroke-miterlimit:10;\" d=\"M 352.902344 240.164063 C 352.902344 247.292969 347.125 253.070313 340 253.070313 C 332.875 253.070313 327.097656 247.292969 327.097656 240.164063 C 327.097656 233.039063 332.875 227.261719 340 227.261719 C 347.125 227.261719 352.902344 233.039063 352.902344 240.164063 \"/>\n",
       "<path style=\"fill-rule:nonzero;fill:rgb(0%,100%,0%);fill-opacity:1;stroke-width:1;stroke-linecap:butt;stroke-linejoin:miter;stroke:rgb(0%,0%,0%);stroke-opacity:1;stroke-miterlimit:10;\" d=\"M 253.136719 224.488281 C 253.136719 232.660156 246.511719 239.285156 238.339844 239.285156 C 230.167969 239.285156 223.542969 232.660156 223.542969 224.488281 C 223.542969 216.3125 230.167969 209.6875 238.339844 209.6875 C 246.511719 209.6875 253.136719 216.3125 253.136719 224.488281 \"/>\n",
       "<path style=\"fill-rule:nonzero;fill:rgb(100%,64.705882%,0%);fill-opacity:1;stroke-width:1;stroke-linecap:butt;stroke-linejoin:miter;stroke:rgb(0%,0%,0%);stroke-opacity:1;stroke-miterlimit:10;\" d=\"M 79.089844 203.164063 C 79.089844 213.707031 70.542969 222.253906 60 222.253906 C 49.457031 222.253906 40.910156 213.707031 40.910156 203.164063 C 40.910156 192.621094 49.457031 184.074219 60 184.074219 C 70.542969 184.074219 79.089844 192.621094 79.089844 203.164063 \"/>\n",
       "<path style=\"fill-rule:nonzero;fill:rgb(0%,100%,0%);fill-opacity:1;stroke-width:1;stroke-linecap:butt;stroke-linejoin:miter;stroke:rgb(0%,0%,0%);stroke-opacity:1;stroke-miterlimit:10;\" d=\"M 211.324219 292.96875 C 211.324219 298.488281 206.847656 302.96875 201.324219 302.96875 C 195.800781 302.96875 191.324219 298.488281 191.324219 292.96875 C 191.324219 287.445313 195.800781 282.96875 201.324219 282.96875 C 206.847656 282.96875 211.324219 287.445313 211.324219 292.96875 \"/>\n",
       "<path style=\"fill-rule:nonzero;fill:rgb(0%,0%,100%);fill-opacity:1;stroke-width:1;stroke-linecap:butt;stroke-linejoin:miter;stroke:rgb(0%,0%,0%);stroke-opacity:1;stroke-miterlimit:10;\" d=\"M 217.628906 97.894531 C 217.628906 103.417969 213.152344 107.894531 207.628906 107.894531 C 202.105469 107.894531 197.628906 103.417969 197.628906 97.894531 C 197.628906 92.371094 202.105469 87.894531 207.628906 87.894531 C 213.152344 87.894531 217.628906 92.371094 217.628906 97.894531 \"/>\n",
       "<path style=\"fill-rule:nonzero;fill:rgb(0%,100%,0%);fill-opacity:1;stroke-width:1;stroke-linecap:butt;stroke-linejoin:miter;stroke:rgb(0%,0%,0%);stroke-opacity:1;stroke-miterlimit:10;\" d=\"M 236.226563 272.53125 C 236.226563 278.054688 231.75 282.53125 226.226563 282.53125 C 220.707031 282.53125 216.226563 278.054688 216.226563 272.53125 C 216.226563 267.007813 220.707031 262.53125 226.226563 262.53125 C 231.75 262.53125 236.226563 267.007813 236.226563 272.53125 \"/>\n",
       "<path style=\"fill-rule:nonzero;fill:rgb(100%,0%,0%);fill-opacity:1;stroke-width:1;stroke-linecap:butt;stroke-linejoin:miter;stroke:rgb(0%,0%,0%);stroke-opacity:1;stroke-miterlimit:10;\" d=\"M 303.828125 224.28125 C 303.828125 229.804688 299.347656 234.28125 293.828125 234.28125 C 288.304688 234.28125 283.828125 229.804688 283.828125 224.28125 C 283.828125 218.757813 288.304688 214.28125 293.828125 214.28125 C 299.347656 214.28125 303.828125 218.757813 303.828125 224.28125 \"/>\n",
       "<path style=\"fill-rule:nonzero;fill:rgb(0%,100%,0%);fill-opacity:1;stroke-width:1;stroke-linecap:butt;stroke-linejoin:miter;stroke:rgb(0%,0%,0%);stroke-opacity:1;stroke-miterlimit:10;\" d=\"M 294.875 172.339844 C 294.875 177.859375 290.394531 182.339844 284.875 182.339844 C 279.351563 182.339844 274.875 177.859375 274.875 172.339844 C 274.875 166.816406 279.351563 162.339844 284.875 162.339844 C 290.394531 162.339844 294.875 166.816406 294.875 172.339844 \"/>\n",
       "<path style=\"fill-rule:nonzero;fill:rgb(100%,0%,0%);fill-opacity:1;stroke-width:1;stroke-linecap:butt;stroke-linejoin:miter;stroke:rgb(0%,0%,0%);stroke-opacity:1;stroke-miterlimit:10;\" d=\"M 210.027344 183.828125 C 210.027344 189.351563 205.550781 193.828125 200.027344 193.828125 C 194.503906 193.828125 190.027344 189.351563 190.027344 183.828125 C 190.027344 178.304688 194.503906 173.828125 200.027344 173.828125 C 205.550781 173.828125 210.027344 178.304688 210.027344 183.828125 \"/>\n",
       "<path style=\"fill-rule:nonzero;fill:rgb(100%,0%,0%);fill-opacity:1;stroke-width:1;stroke-linecap:butt;stroke-linejoin:miter;stroke:rgb(0%,0%,0%);stroke-opacity:1;stroke-miterlimit:10;\" d=\"M 141.578125 246.691406 C 141.578125 252.214844 137.101563 256.691406 131.578125 256.691406 C 126.054688 256.691406 121.578125 252.214844 121.578125 246.691406 C 121.578125 241.167969 126.054688 236.691406 131.578125 236.691406 C 137.101563 236.691406 141.578125 241.167969 141.578125 246.691406 \"/>\n",
       "</g>\n",
       "</svg>\n"
      ],
      "text/plain": [
       "<igraph.drawing.Plot at 0x338bc18>"
      ]
     },
     "execution_count": 5,
     "metadata": {},
     "output_type": "execute_result"
    }
   ],
   "source": [
    "visual_style[\"vertex_size\"] = 20\n",
    "visual_style[\"bbox\"] = (400, 400)\n",
    "visual_style[\"margin\"] = 60\n",
    "\n",
    "volumes = g.vs[\"volume\"]\n",
    "maxVolume = max(volumes)\n",
    "visual_style[\"vertex_size\"] = [20 + volumes[i]*50/(2*maxVolume) for i in range(len(g.vs))]\n",
    "\n",
    "ig.plot(g, **visual_style)"
   ]
  }
 ],
 "metadata": {
  "kernelspec": {
   "display_name": "Python 3",
   "language": "python",
   "name": "python3"
  },
  "language_info": {
   "codemirror_mode": {
    "name": "ipython",
    "version": 3
   },
   "file_extension": ".py",
   "mimetype": "text/x-python",
   "name": "python",
   "nbconvert_exporter": "python",
   "pygments_lexer": "ipython3",
   "version": "3.6.4"
  }
 },
 "nbformat": 4,
 "nbformat_minor": 2
}
