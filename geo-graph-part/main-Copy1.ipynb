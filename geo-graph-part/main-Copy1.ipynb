{
 "cells": [
  {
   "cell_type": "markdown",
   "metadata": {},
   "source": [
    "# Import graph"
   ]
  },
  {
   "cell_type": "code",
   "execution_count": 1,
   "metadata": {},
   "outputs": [],
   "source": [
    "import igraph as ig\n",
    "import coarse\n",
    "import random\n",
    "\n",
    "from data.graph_generator import *\n",
    "\n",
    "nData = 300\n",
    "nTasks = 100\n",
    "edgeProb = 0.12\n",
    "\n",
    "outgoingEdges = 2\n",
    "\n",
    "avgDataDep = 4\n",
    "stddDataDep = 3\n",
    "\n",
    "# g = generate_realistic(nData, nTasks, avgDataDep, stddDataDep)\n",
    "\n",
    "# g = generate_graph(nData, nTasks, edgeProb)\n",
    "\n",
    "# g = generate_barabasi(nData + nTasks, outgoingEdges)\n",
    "from data.testgraph3 import *"
   ]
  },
  {
   "cell_type": "markdown",
   "metadata": {},
   "source": [
    "### Eliminate isolated vertices"
   ]
  },
  {
   "cell_type": "code",
   "execution_count": 2,
   "metadata": {},
   "outputs": [],
   "source": [
    "toDelete = []\n",
    "for v in g.vs:\n",
    "    if not v.neighbors():\n",
    "        toDelete.append(v)\n",
    "g.delete_vertices(toDelete)"
   ]
  },
  {
   "cell_type": "markdown",
   "metadata": {},
   "source": [
    "## Plot the graph, define layout and visual style"
   ]
  },
  {
   "cell_type": "code",
   "execution_count": 3,
   "metadata": {},
   "outputs": [
    {
     "data": {
      "image/svg+xml": [
       "<?xml version=\"1.0\" encoding=\"UTF-8\"?>\n",
       "<svg xmlns=\"http://www.w3.org/2000/svg\" xmlns:xlink=\"http://www.w3.org/1999/xlink\" width=\"500pt\" height=\"500pt\" viewBox=\"0 0 500 500\" version=\"1.1\">\n",
       "<g id=\"surface2\">\n",
       "<rect x=\"0\" y=\"0\" width=\"500\" height=\"500\" style=\"fill:rgb(100%,100%,100%);fill-opacity:1;stroke:none;\"/>\n",
       "<path style=\"fill:none;stroke-width:1;stroke-linecap:butt;stroke-linejoin:miter;stroke:rgb(26.666667%,26.666667%,26.666667%);stroke-opacity:1;stroke-miterlimit:10;\" d=\"M 480 228.910156 L 338.835938 324.660156 \"/>\n",
       "<path style=\"fill:none;stroke-width:1;stroke-linecap:butt;stroke-linejoin:miter;stroke:rgb(26.666667%,26.666667%,26.666667%);stroke-opacity:1;stroke-miterlimit:10;\" d=\"M 480 228.910156 L 417.824219 95.203125 \"/>\n",
       "<path style=\"fill:none;stroke-width:1;stroke-linecap:butt;stroke-linejoin:miter;stroke:rgb(26.666667%,26.666667%,26.666667%);stroke-opacity:1;stroke-miterlimit:10;\" d=\"M 268.410156 480 L 338.835938 324.660156 \"/>\n",
       "<path style=\"fill:none;stroke-width:1;stroke-linecap:butt;stroke-linejoin:miter;stroke:rgb(26.666667%,26.666667%,26.666667%);stroke-opacity:1;stroke-miterlimit:10;\" d=\"M 268.410156 480 L 169.1875 434.515625 \"/>\n",
       "<path style=\"fill:none;stroke-width:1;stroke-linecap:butt;stroke-linejoin:miter;stroke:rgb(26.666667%,26.666667%,26.666667%);stroke-opacity:1;stroke-miterlimit:10;\" d=\"M 20 455.957031 L 169.1875 434.515625 \"/>\n",
       "<path style=\"fill:none;stroke-width:1;stroke-linecap:butt;stroke-linejoin:miter;stroke:rgb(26.666667%,26.666667%,26.666667%);stroke-opacity:1;stroke-miterlimit:10;\" d=\"M 351.863281 448.566406 L 338.835938 324.660156 \"/>\n",
       "<path style=\"fill:none;stroke-width:1;stroke-linecap:butt;stroke-linejoin:miter;stroke:rgb(26.666667%,26.666667%,26.666667%);stroke-opacity:1;stroke-miterlimit:10;\" d=\"M 351.863281 448.566406 L 169.1875 434.515625 \"/>\n",
       "<path style=\"fill:none;stroke-width:1;stroke-linecap:butt;stroke-linejoin:miter;stroke:rgb(26.666667%,26.666667%,26.666667%);stroke-opacity:1;stroke-miterlimit:10;\" d=\"M 311.878906 172.6875 L 417.824219 95.203125 \"/>\n",
       "<path style=\"fill:none;stroke-width:1;stroke-linecap:butt;stroke-linejoin:miter;stroke:rgb(26.666667%,26.666667%,26.666667%);stroke-opacity:1;stroke-miterlimit:10;\" d=\"M 311.878906 172.6875 L 166.175781 123.117188 \"/>\n",
       "<path style=\"fill:none;stroke-width:1;stroke-linecap:butt;stroke-linejoin:miter;stroke:rgb(26.666667%,26.666667%,26.666667%);stroke-opacity:1;stroke-miterlimit:10;\" d=\"M 175.4375 285.878906 L 166.175781 123.117188 \"/>\n",
       "<path style=\"fill:none;stroke-width:1;stroke-linecap:butt;stroke-linejoin:miter;stroke:rgb(26.666667%,26.666667%,26.666667%);stroke-opacity:1;stroke-miterlimit:10;\" d=\"M 20.492188 84.027344 L 166.175781 123.117188 \"/>\n",
       "<path style=\"fill:none;stroke-width:1;stroke-linecap:butt;stroke-linejoin:miter;stroke:rgb(26.666667%,26.666667%,26.666667%);stroke-opacity:1;stroke-miterlimit:10;\" d=\"M 311.878906 172.6875 L 338.835938 324.660156 \"/>\n",
       "<path style=\"fill:none;stroke-width:1;stroke-linecap:butt;stroke-linejoin:miter;stroke:rgb(26.666667%,26.666667%,26.666667%);stroke-opacity:1;stroke-miterlimit:10;\" d=\"M 175.4375 285.878906 L 338.835938 324.660156 \"/>\n",
       "<path style=\"fill:none;stroke-width:1;stroke-linecap:butt;stroke-linejoin:miter;stroke:rgb(26.666667%,26.666667%,26.666667%);stroke-opacity:1;stroke-miterlimit:10;\" d=\"M 283.378906 20 L 417.824219 95.203125 \"/>\n",
       "<path style=\"fill:none;stroke-width:1;stroke-linecap:butt;stroke-linejoin:miter;stroke:rgb(26.666667%,26.666667%,26.666667%);stroke-opacity:1;stroke-miterlimit:10;\" d=\"M 175.4375 285.878906 L 169.1875 434.515625 \"/>\n",
       "<path style=\"fill:none;stroke-width:1;stroke-linecap:butt;stroke-linejoin:miter;stroke:rgb(26.666667%,26.666667%,26.666667%);stroke-opacity:1;stroke-miterlimit:10;\" d=\"M 283.378906 20 L 166.175781 123.117188 \"/>\n",
       "<path style=\"fill-rule:nonzero;fill:rgb(100%,0%,0%);fill-opacity:1;stroke-width:1;stroke-linecap:butt;stroke-linejoin:miter;stroke:rgb(0%,0%,0%);stroke-opacity:1;stroke-miterlimit:10;\" d=\"M 482.664063 228.910156 C 482.664063 232.460938 477.335938 232.460938 477.335938 228.910156 C 477.335938 225.355469 482.664063 225.355469 482.664063 228.910156 \"/>\n",
       "<path style=\"fill-rule:nonzero;fill:rgb(100%,0%,0%);fill-opacity:1;stroke-width:1;stroke-linecap:butt;stroke-linejoin:miter;stroke:rgb(0%,0%,0%);stroke-opacity:1;stroke-miterlimit:10;\" d=\"M 271.238281 480 C 271.238281 483.765625 265.585938 483.765625 265.585938 480 C 265.585938 476.234375 271.238281 476.234375 271.238281 480 \"/>\n",
       "<path style=\"fill-rule:nonzero;fill:rgb(100%,0%,0%);fill-opacity:1;stroke-width:1;stroke-linecap:butt;stroke-linejoin:miter;stroke:rgb(0%,0%,0%);stroke-opacity:1;stroke-miterlimit:10;\" d=\"M 22.964844 455.957031 C 22.964844 459.910156 17.035156 459.910156 17.035156 455.957031 C 17.035156 452.007813 22.964844 452.007813 22.964844 455.957031 \"/>\n",
       "<path style=\"fill-rule:nonzero;fill:rgb(100%,0%,0%);fill-opacity:1;stroke-width:1;stroke-linecap:butt;stroke-linejoin:miter;stroke:rgb(0%,0%,0%);stroke-opacity:1;stroke-miterlimit:10;\" d=\"M 355.863281 448.566406 C 355.863281 453.898438 347.863281 453.898438 347.863281 448.566406 C 347.863281 443.230469 355.863281 443.230469 355.863281 448.566406 \"/>\n",
       "<path style=\"fill-rule:nonzero;fill:rgb(100%,0%,0%);fill-opacity:1;stroke-width:1;stroke-linecap:butt;stroke-linejoin:miter;stroke:rgb(0%,0%,0%);stroke-opacity:1;stroke-miterlimit:10;\" d=\"M 314.691406 172.6875 C 314.691406 176.4375 309.066406 176.4375 309.066406 172.6875 C 309.066406 168.9375 314.691406 168.9375 314.691406 172.6875 \"/>\n",
       "<path style=\"fill-rule:nonzero;fill:rgb(100%,0%,0%);fill-opacity:1;stroke-width:1;stroke-linecap:butt;stroke-linejoin:miter;stroke:rgb(0%,0%,0%);stroke-opacity:1;stroke-miterlimit:10;\" d=\"M 286.828125 20 C 286.828125 24.597656 279.933594 24.597656 279.933594 20 C 279.933594 15.402344 286.828125 15.402344 286.828125 20 \"/>\n",
       "<path style=\"fill-rule:nonzero;fill:rgb(100%,0%,0%);fill-opacity:1;stroke-width:1;stroke-linecap:butt;stroke-linejoin:miter;stroke:rgb(0%,0%,0%);stroke-opacity:1;stroke-miterlimit:10;\" d=\"M 178.226563 285.878906 C 178.226563 289.601563 172.648438 289.601563 172.648438 285.878906 C 172.648438 282.160156 178.226563 282.160156 178.226563 285.878906 \"/>\n",
       "<path style=\"fill-rule:nonzero;fill:rgb(100%,0%,0%);fill-opacity:1;stroke-width:1;stroke-linecap:butt;stroke-linejoin:miter;stroke:rgb(0%,0%,0%);stroke-opacity:1;stroke-miterlimit:10;\" d=\"M 24.421875 84.027344 C 24.421875 89.269531 16.558594 89.269531 16.558594 84.027344 C 16.558594 78.78125 24.421875 78.78125 24.421875 84.027344 \"/>\n",
       "<path style=\"fill-rule:nonzero;fill:rgb(100%,0%,0%);fill-opacity:1;stroke-width:1;stroke-linecap:butt;stroke-linejoin:miter;stroke:rgb(0%,0%,0%);stroke-opacity:1;stroke-miterlimit:10;\" d=\"M 340.835938 324.660156 C 340.835938 327.328125 336.835938 327.328125 336.835938 324.660156 C 336.835938 321.996094 340.835938 321.996094 340.835938 324.660156 \"/>\n",
       "<path style=\"fill-rule:nonzero;fill:rgb(100%,0%,0%);fill-opacity:1;stroke-width:1;stroke-linecap:butt;stroke-linejoin:miter;stroke:rgb(0%,0%,0%);stroke-opacity:1;stroke-miterlimit:10;\" d=\"M 419.824219 95.203125 C 419.824219 97.871094 415.824219 97.871094 415.824219 95.203125 C 415.824219 92.535156 419.824219 92.535156 419.824219 95.203125 \"/>\n",
       "<path style=\"fill-rule:nonzero;fill:rgb(100%,0%,0%);fill-opacity:1;stroke-width:1;stroke-linecap:butt;stroke-linejoin:miter;stroke:rgb(0%,0%,0%);stroke-opacity:1;stroke-miterlimit:10;\" d=\"M 171.1875 434.515625 C 171.1875 437.183594 167.1875 437.183594 167.1875 434.515625 C 167.1875 431.847656 171.1875 431.847656 171.1875 434.515625 \"/>\n",
       "<path style=\"fill-rule:nonzero;fill:rgb(100%,0%,0%);fill-opacity:1;stroke-width:1;stroke-linecap:butt;stroke-linejoin:miter;stroke:rgb(0%,0%,0%);stroke-opacity:1;stroke-miterlimit:10;\" d=\"M 168.175781 123.117188 C 168.175781 125.785156 164.175781 125.785156 164.175781 123.117188 C 164.175781 120.453125 168.175781 120.453125 168.175781 123.117188 \"/>\n",
       "</g>\n",
       "</svg>\n"
      ],
      "text/plain": [
       "<igraph.drawing.Plot at 0x5eaa0f0>"
      ]
     },
     "execution_count": 3,
     "metadata": {},
     "output_type": "execute_result"
    }
   ],
   "source": [
    "volumes = g.vs[\"volume\"]\n",
    "maxVolume = max(volumes)\n",
    "\n",
    "nVertices = len(g.vs)\n",
    "nEdges = len(g.es)\n",
    "\n",
    "visual_style = {}\n",
    "\n",
    "layout = g.layout(\"fr\")\n",
    "visual_style[\"layout\"] = layout\n",
    "\n",
    "# g.vs[\"label\"] = g.vs[\"name\"]\n",
    "# visual_style[\"vertex_label\"] = g.vs[\"name\"]\n",
    "visual_style[\"vertex_size\"] = [4 * (1 + volumes[i]/maxVolume) for i in range(nVertices)]\n",
    "visual_style[\"bbox\"] = (500, 500)\n",
    "visual_style[\"margin\"] = 20\n",
    "\n",
    "\n",
    "# print(\"Vertex names:\")\n",
    "# print([\"{0}: {1}\".format(i, g.vs[i][\"name\"]) for i in range(len(g.vs))])\n",
    "# print(\"\\nWeighted edges\")\n",
    "# for e in g.es:\n",
    "#     print(\"{0} -- {1}: {2}\".format(g.vs[e.source][\"name\"], g.vs[e.target][\"name\"], e[\"weight\"]))\n",
    "\n",
    "ig.plot(g, **visual_style)"
   ]
  },
  {
   "cell_type": "markdown",
   "metadata": {},
   "source": [
    "## Cluster cost parameters\n",
    "\n",
    "Generate a random set of clusters"
   ]
  },
  {
   "cell_type": "code",
   "execution_count": 4,
   "metadata": {},
   "outputs": [
    {
     "name": "stdout",
     "output_type": "stream",
     "text": [
      "[[ 0.   80.31]\n",
      " [80.31  0.  ]]\n"
     ]
    }
   ],
   "source": [
    "import numpy as np\n",
    "\n",
    "nClusters = 2\n",
    "clusters = range(nClusters)\n",
    "\n",
    "\n",
    "costexp = 30\n",
    "coststdd = 30\n",
    "\n",
    "cost = [[0 for c1 in range(nClusters)] for c2 in range(nClusters)]\n",
    "for c1 in range(nClusters):\n",
    "    for c2 in range(c1+1, nClusters):\n",
    "        cost[c1][c2] = max(round(random.gauss(costexp, coststdd),2),0)\n",
    "        cost[c2][c1] = cost[c1][c2]\n",
    "cost = np.array(cost)\n",
    "\n",
    "# cost = np.array([[0., 1.], [1.,0.]])\n",
    "\n",
    "print(cost)"
   ]
  },
  {
   "cell_type": "markdown",
   "metadata": {},
   "source": [
    "## Coarsening the graph\n",
    "The graph is coarsened until its number of vertices is less than a specified number."
   ]
  },
  {
   "cell_type": "code",
   "execution_count": 5,
   "metadata": {},
   "outputs": [
    {
     "name": "stdout",
     "output_type": "stream",
     "text": [
      "[0.3169612638577681, 0.3935629274577216, 0.45904469645886536, 0.9534063309187585, 0.38698885769535507, 0.6901342711134617, 0.37673604078454703, 0.9215471899395906, 0.0, 0.0, 0.0, 0.0]\n"
     ]
    }
   ],
   "source": [
    "import coarse\n",
    "\n",
    "vertexLimit = 40\n",
    "graphs = [g]\n",
    "\n",
    "while len(graphs[-1].vs) > vertexLimit:\n",
    "    coarserGraph = coarse.coarsen(graphs[-1])\n",
    "    graphs.append(coarserGraph)\n",
    "\n",
    "print(graphs[-1].vs[\"volume\"])"
   ]
  },
  {
   "cell_type": "code",
   "execution_count": 6,
   "metadata": {},
   "outputs": [
    {
     "name": "stdout",
     "output_type": "stream",
     "text": [
      "1\n"
     ]
    },
    {
     "data": {
      "image/svg+xml": [
       "<?xml version=\"1.0\" encoding=\"UTF-8\"?>\n",
       "<svg xmlns=\"http://www.w3.org/2000/svg\" xmlns:xlink=\"http://www.w3.org/1999/xlink\" width=\"500pt\" height=\"500pt\" viewBox=\"0 0 500 500\" version=\"1.1\">\n",
       "<g id=\"surface8\">\n",
       "<rect x=\"0\" y=\"0\" width=\"500\" height=\"500\" style=\"fill:rgb(100%,100%,100%);fill-opacity:1;stroke:none;\"/>\n",
       "<path style=\"fill:none;stroke-width:1;stroke-linecap:butt;stroke-linejoin:miter;stroke:rgb(26.666667%,26.666667%,26.666667%);stroke-opacity:1;stroke-miterlimit:10;\" d=\"M 269.933594 20 L 174.84375 161.257813 \"/>\n",
       "<path style=\"fill:none;stroke-width:1;stroke-linecap:butt;stroke-linejoin:miter;stroke:rgb(26.666667%,26.666667%,26.666667%);stroke-opacity:1;stroke-miterlimit:10;\" d=\"M 269.933594 20 L 404.042969 81.320313 \"/>\n",
       "<path style=\"fill:none;stroke-width:1;stroke-linecap:butt;stroke-linejoin:miter;stroke:rgb(26.666667%,26.666667%,26.666667%);stroke-opacity:1;stroke-miterlimit:10;\" d=\"M 50.65625 148.722656 L 174.84375 161.257813 \"/>\n",
       "<path style=\"fill:none;stroke-width:1;stroke-linecap:butt;stroke-linejoin:miter;stroke:rgb(26.666667%,26.666667%,26.666667%);stroke-opacity:1;stroke-miterlimit:10;\" d=\"M 50.65625 148.722656 L 65.796875 331.058594 \"/>\n",
       "<path style=\"fill:none;stroke-width:1;stroke-linecap:butt;stroke-linejoin:miter;stroke:rgb(26.666667%,26.666667%,26.666667%);stroke-opacity:1;stroke-miterlimit:10;\" d=\"M 44.871094 480 L 65.796875 331.058594 \"/>\n",
       "<path style=\"fill:none;stroke-width:1;stroke-linecap:butt;stroke-linejoin:miter;stroke:rgb(26.666667%,26.666667%,26.666667%);stroke-opacity:1;stroke-miterlimit:10;\" d=\"M 20 232.375 L 174.84375 161.257813 \"/>\n",
       "<path style=\"fill:none;stroke-width:1;stroke-linecap:butt;stroke-linejoin:miter;stroke:rgb(26.666667%,26.666667%,26.666667%);stroke-opacity:1;stroke-miterlimit:10;\" d=\"M 20 232.375 L 65.796875 331.058594 \"/>\n",
       "<path style=\"fill:none;stroke-width:1;stroke-linecap:butt;stroke-linejoin:miter;stroke:rgb(26.666667%,26.666667%,26.666667%);stroke-opacity:1;stroke-miterlimit:10;\" d=\"M 327.019531 187.523438 L 404.042969 81.320313 \"/>\n",
       "<path style=\"fill:none;stroke-width:1;stroke-linecap:butt;stroke-linejoin:miter;stroke:rgb(26.666667%,26.666667%,26.666667%);stroke-opacity:1;stroke-miterlimit:10;\" d=\"M 327.019531 187.523438 L 377.46875 332.582031 \"/>\n",
       "<path style=\"fill:none;stroke-width:1;stroke-linecap:butt;stroke-linejoin:miter;stroke:rgb(26.666667%,26.666667%,26.666667%);stroke-opacity:1;stroke-miterlimit:10;\" d=\"M 214.535156 324.097656 L 377.46875 332.582031 \"/>\n",
       "<path style=\"fill:none;stroke-width:1;stroke-linecap:butt;stroke-linejoin:miter;stroke:rgb(26.666667%,26.666667%,26.666667%);stroke-opacity:1;stroke-miterlimit:10;\" d=\"M 417.152344 477.753906 L 377.46875 332.582031 \"/>\n",
       "<path style=\"fill:none;stroke-width:1;stroke-linecap:butt;stroke-linejoin:miter;stroke:rgb(26.666667%,26.666667%,26.666667%);stroke-opacity:1;stroke-miterlimit:10;\" d=\"M 327.019531 187.523438 L 174.84375 161.257813 \"/>\n",
       "<path style=\"fill:none;stroke-width:1;stroke-linecap:butt;stroke-linejoin:miter;stroke:rgb(26.666667%,26.666667%,26.666667%);stroke-opacity:1;stroke-miterlimit:10;\" d=\"M 214.535156 324.097656 L 174.84375 161.257813 \"/>\n",
       "<path style=\"fill:none;stroke-width:1;stroke-linecap:butt;stroke-linejoin:miter;stroke:rgb(26.666667%,26.666667%,26.666667%);stroke-opacity:1;stroke-miterlimit:10;\" d=\"M 480 214.945313 L 404.042969 81.320313 \"/>\n",
       "<path style=\"fill:none;stroke-width:1;stroke-linecap:butt;stroke-linejoin:miter;stroke:rgb(26.666667%,26.666667%,26.666667%);stroke-opacity:1;stroke-miterlimit:10;\" d=\"M 214.535156 324.097656 L 65.796875 331.058594 \"/>\n",
       "<path style=\"fill:none;stroke-width:1;stroke-linecap:butt;stroke-linejoin:miter;stroke:rgb(26.666667%,26.666667%,26.666667%);stroke-opacity:1;stroke-miterlimit:10;\" d=\"M 480 214.945313 L 377.46875 332.582031 \"/>\n",
       "<path style=\"fill-rule:nonzero;fill:rgb(100%,0%,0%);fill-opacity:1;stroke-width:1;stroke-linecap:butt;stroke-linejoin:miter;stroke:rgb(0%,0%,0%);stroke-opacity:1;stroke-miterlimit:10;\" d=\"M 275.265625 20 C 275.265625 27.105469 264.605469 27.105469 264.605469 20 C 264.605469 12.894531 275.265625 12.894531 275.265625 20 \"/>\n",
       "<path style=\"fill-rule:nonzero;fill:rgb(100%,0%,0%);fill-opacity:1;stroke-width:1;stroke-linecap:butt;stroke-linejoin:miter;stroke:rgb(0%,0%,0%);stroke-opacity:1;stroke-miterlimit:10;\" d=\"M 56.308594 148.722656 C 56.308594 151.84375 53.777344 154.375 50.65625 154.375 C 47.535156 154.375 45.007813 151.84375 45.007813 148.722656 C 45.007813 145.601563 47.535156 143.074219 50.65625 143.074219 C 53.777344 143.074219 56.308594 145.601563 56.308594 148.722656 \"/>\n",
       "<path style=\"fill-rule:nonzero;fill:rgb(100%,0%,0%);fill-opacity:1;stroke-width:1;stroke-linecap:butt;stroke-linejoin:miter;stroke:rgb(0%,0%,0%);stroke-opacity:1;stroke-miterlimit:10;\" d=\"M 50.796875 480 C 50.796875 483.273438 48.144531 485.925781 44.871094 485.925781 C 41.597656 485.925781 38.945313 483.273438 38.945313 480 C 38.945313 476.726563 41.597656 474.074219 44.871094 474.074219 C 48.144531 474.074219 50.796875 476.726563 50.796875 480 \"/>\n",
       "<path style=\"fill-rule:nonzero;fill:rgb(100%,0%,0%);fill-opacity:1;stroke-width:1;stroke-linecap:butt;stroke-linejoin:miter;stroke:rgb(0%,0%,0%);stroke-opacity:1;stroke-miterlimit:10;\" d=\"M 28 232.375 C 28 236.792969 24.417969 240.375 20 240.375 C 15.582031 240.375 12 236.792969 12 232.375 C 12 227.957031 15.582031 224.375 20 224.375 C 24.417969 224.375 28 227.957031 28 232.375 \"/>\n",
       "<path style=\"fill-rule:nonzero;fill:rgb(100%,0%,0%);fill-opacity:1;stroke-width:1;stroke-linecap:butt;stroke-linejoin:miter;stroke:rgb(0%,0%,0%);stroke-opacity:1;stroke-miterlimit:10;\" d=\"M 332.644531 187.523438 C 332.644531 190.632813 330.125 193.148438 327.019531 193.148438 C 323.914063 193.148438 321.394531 190.632813 321.394531 187.523438 C 321.394531 184.417969 323.914063 181.902344 327.019531 181.902344 C 330.125 181.902344 332.644531 184.417969 332.644531 187.523438 \"/>\n",
       "<path style=\"fill-rule:nonzero;fill:rgb(100%,0%,0%);fill-opacity:1;stroke-width:1;stroke-linecap:butt;stroke-linejoin:miter;stroke:rgb(0%,0%,0%);stroke-opacity:1;stroke-miterlimit:10;\" d=\"M 486.894531 214.945313 C 486.894531 218.753906 483.808594 221.839844 480 221.839844 C 476.191406 221.839844 473.105469 218.753906 473.105469 214.945313 C 473.105469 211.136719 476.191406 208.050781 480 208.050781 C 483.808594 208.050781 486.894531 211.136719 486.894531 214.945313 \"/>\n",
       "<path style=\"fill-rule:nonzero;fill:rgb(100%,0%,0%);fill-opacity:1;stroke-width:1;stroke-linecap:butt;stroke-linejoin:miter;stroke:rgb(0%,0%,0%);stroke-opacity:1;stroke-miterlimit:10;\" d=\"M 220.113281 324.097656 C 220.113281 327.179688 217.617188 329.679688 214.535156 329.679688 C 211.453125 329.679688 208.953125 327.179688 208.953125 324.097656 C 208.953125 321.015625 211.453125 318.515625 214.535156 318.515625 C 217.617188 318.515625 220.113281 321.015625 220.113281 324.097656 \"/>\n",
       "<path style=\"fill-rule:nonzero;fill:rgb(100%,0%,0%);fill-opacity:1;stroke-width:1;stroke-linecap:butt;stroke-linejoin:miter;stroke:rgb(0%,0%,0%);stroke-opacity:1;stroke-miterlimit:10;\" d=\"M 425.019531 477.753906 C 425.019531 482.097656 421.496094 485.617188 417.152344 485.617188 C 412.808594 485.617188 409.285156 482.097656 409.285156 477.753906 C 409.285156 473.40625 412.808594 469.886719 417.152344 469.886719 C 421.496094 469.886719 425.019531 473.40625 425.019531 477.753906 \"/>\n",
       "<path style=\"fill-rule:nonzero;fill:rgb(100%,0%,0%);fill-opacity:1;stroke-width:1;stroke-linecap:butt;stroke-linejoin:miter;stroke:rgb(0%,0%,0%);stroke-opacity:1;stroke-miterlimit:10;\" d=\"M 178.84375 161.257813 C 178.84375 166.589844 170.84375 166.589844 170.84375 161.257813 C 170.84375 155.921875 178.84375 155.921875 178.84375 161.257813 \"/>\n",
       "<path style=\"fill-rule:nonzero;fill:rgb(100%,0%,0%);fill-opacity:1;stroke-width:1;stroke-linecap:butt;stroke-linejoin:miter;stroke:rgb(0%,0%,0%);stroke-opacity:1;stroke-miterlimit:10;\" d=\"M 408.042969 81.320313 C 408.042969 86.652344 400.042969 86.652344 400.042969 81.320313 C 400.042969 75.984375 408.042969 75.984375 408.042969 81.320313 \"/>\n",
       "<path style=\"fill-rule:nonzero;fill:rgb(100%,0%,0%);fill-opacity:1;stroke-width:1;stroke-linecap:butt;stroke-linejoin:miter;stroke:rgb(0%,0%,0%);stroke-opacity:1;stroke-miterlimit:10;\" d=\"M 69.796875 331.058594 C 69.796875 336.390625 61.796875 336.390625 61.796875 331.058594 C 61.796875 325.722656 69.796875 325.722656 69.796875 331.058594 \"/>\n",
       "<path style=\"fill-rule:nonzero;fill:rgb(100%,0%,0%);fill-opacity:1;stroke-width:1;stroke-linecap:butt;stroke-linejoin:miter;stroke:rgb(0%,0%,0%);stroke-opacity:1;stroke-miterlimit:10;\" d=\"M 381.46875 332.582031 C 381.46875 337.914063 373.46875 337.914063 373.46875 332.582031 C 373.46875 327.246094 381.46875 327.246094 381.46875 332.582031 \"/>\n",
       "</g>\n",
       "</svg>\n"
      ],
      "text/plain": [
       "<igraph.drawing.Plot at 0x5ed76a0>"
      ]
     },
     "execution_count": 6,
     "metadata": {},
     "output_type": "execute_result"
    }
   ],
   "source": [
    "cg = graphs[-1]\n",
    "\n",
    "volumes = cg.vs[\"volume\"]\n",
    "maxVolume = max(volumes)\n",
    "\n",
    "nVertices = len(cg.vs)\n",
    "vertices = range(nVertices)\n",
    "nEdges = len(cg.es)\n",
    "\n",
    "visual_style = {}\n",
    "layout = cg.layout(\"fr\")\n",
    "visual_style[\"layout\"] = layout\n",
    "# cg.vs[\"label\"] = cg.vs[\"name\"]\n",
    "# visual_style[\"vertex_label\"] = cg.vs[\"name\"]\n",
    "visual_style[\"vertex_size\"] = [8 * (1 + volumes[i]/maxVolume) for i in range(nVertices)]\n",
    "visual_style[\"bbox\"] = (500, 500)\n",
    "visual_style[\"margin\"] = 20\n",
    "\n",
    "\n",
    "# print(\"Vertex names:\")\n",
    "# print([\"{0}: {1}\".format(i, cg.vs[i][\"name\"]) for i in range(len(cg.vs))])\n",
    "# print(\"\\nWeighted edges\")\n",
    "# for e in cg.es:\n",
    "#     print(\"{0} -- {1}: {2}\".format(cg.vs[e.source][\"name\"], cg.vs[e.target][\"name\"], e[\"weight\"]))\n",
    "\n",
    "print(len(graphs))\n",
    "ig.plot(cg, **visual_style)"
   ]
  },
  {
   "cell_type": "markdown",
   "metadata": {},
   "source": [
    "# Calculate the initial partition on the coarsest graph, using a LP"
   ]
  },
  {
   "cell_type": "markdown",
   "metadata": {},
   "source": [
    "## Transform the graph into data"
   ]
  },
  {
   "cell_type": "code",
   "execution_count": 7,
   "metadata": {},
   "outputs": [
    {
     "name": "stdout",
     "output_type": "stream",
     "text": [
      "[(0, 8), (0, 9), (1, 8), (1, 10), (2, 10), (3, 8), (3, 10), (4, 9), (4, 11), (6, 11), (7, 11), (4, 8), (6, 8), (5, 9), (6, 10), (5, 11)]\n",
      "[0.3169612638577681, 0.3935629274577216, 0.45904469645886536, 0.9534063309187585, 0.38698885769535507, 0.6901342711134617, 0.37673604078454703, 0.9215471899395906, 0.0, 0.0, 0.0, 0.0]\n"
     ]
    },
    {
     "data": {
      "image/svg+xml": [
       "<?xml version=\"1.0\" encoding=\"UTF-8\"?>\n",
       "<svg xmlns=\"http://www.w3.org/2000/svg\" xmlns:xlink=\"http://www.w3.org/1999/xlink\" width=\"600pt\" height=\"600pt\" viewBox=\"0 0 600 600\" version=\"1.1\">\n",
       "<g id=\"surface14\">\n",
       "<rect x=\"0\" y=\"0\" width=\"600\" height=\"600\" style=\"fill:rgb(100%,100%,100%);fill-opacity:1;stroke:none;\"/>\n",
       "<path style=\"fill:none;stroke-width:1;stroke-linecap:butt;stroke-linejoin:miter;stroke:rgb(26.666667%,26.666667%,26.666667%);stroke-opacity:1;stroke-miterlimit:10;\" d=\"M 71.597656 105.683594 L 129.691406 248.375 \"/>\n",
       "<path style=\"fill:none;stroke-width:1;stroke-linecap:butt;stroke-linejoin:miter;stroke:rgb(26.666667%,26.666667%,26.666667%);stroke-opacity:1;stroke-miterlimit:10;\" d=\"M 71.597656 105.683594 L 221.445313 20 \"/>\n",
       "<path style=\"fill:none;stroke-width:1;stroke-linecap:butt;stroke-linejoin:miter;stroke:rgb(26.666667%,26.666667%,26.666667%);stroke-opacity:1;stroke-miterlimit:10;\" d=\"M 20 348.855469 L 129.691406 248.375 \"/>\n",
       "<path style=\"fill:none;stroke-width:1;stroke-linecap:butt;stroke-linejoin:miter;stroke:rgb(26.666667%,26.666667%,26.666667%);stroke-opacity:1;stroke-miterlimit:10;\" d=\"M 20 348.855469 L 196.789063 441.261719 \"/>\n",
       "<path style=\"fill:none;stroke-width:1;stroke-linecap:butt;stroke-linejoin:miter;stroke:rgb(26.666667%,26.666667%,26.666667%);stroke-opacity:1;stroke-miterlimit:10;\" d=\"M 220.09375 580 L 196.789063 441.261719 \"/>\n",
       "<path style=\"fill:none;stroke-width:1;stroke-linecap:butt;stroke-linejoin:miter;stroke:rgb(26.666667%,26.666667%,26.666667%);stroke-opacity:1;stroke-miterlimit:10;\" d=\"M 78.964844 389.878906 L 129.691406 248.375 \"/>\n",
       "<path style=\"fill:none;stroke-width:1;stroke-linecap:butt;stroke-linejoin:miter;stroke:rgb(26.666667%,26.666667%,26.666667%);stroke-opacity:1;stroke-miterlimit:10;\" d=\"M 78.964844 389.878906 L 196.789063 441.261719 \"/>\n",
       "<path style=\"fill:none;stroke-width:1;stroke-linecap:butt;stroke-linejoin:miter;stroke:rgb(26.666667%,26.666667%,26.666667%);stroke-opacity:1;stroke-miterlimit:10;\" d=\"M 256.4375 154.617188 L 221.445313 20 \"/>\n",
       "<path style=\"fill:none;stroke-width:1;stroke-linecap:butt;stroke-linejoin:miter;stroke:rgb(26.666667%,26.666667%,26.666667%);stroke-opacity:1;stroke-miterlimit:10;\" d=\"M 256.4375 154.617188 L 412.859375 204.078125 \"/>\n",
       "<path style=\"fill:none;stroke-width:1;stroke-linecap:butt;stroke-linejoin:miter;stroke:rgb(26.666667%,26.666667%,26.666667%);stroke-opacity:1;stroke-miterlimit:10;\" d=\"M 297.378906 320.132813 L 412.859375 204.078125 \"/>\n",
       "<path style=\"fill:none;stroke-width:1;stroke-linecap:butt;stroke-linejoin:miter;stroke:rgb(26.666667%,26.666667%,26.666667%);stroke-opacity:1;stroke-miterlimit:10;\" d=\"M 580 223.359375 L 412.859375 204.078125 \"/>\n",
       "<path style=\"fill:none;stroke-width:1;stroke-linecap:butt;stroke-linejoin:miter;stroke:rgb(26.666667%,26.666667%,26.666667%);stroke-opacity:1;stroke-miterlimit:10;\" d=\"M 256.4375 154.617188 L 129.691406 248.375 \"/>\n",
       "<path style=\"fill:none;stroke-width:1;stroke-linecap:butt;stroke-linejoin:miter;stroke:rgb(26.666667%,26.666667%,26.666667%);stroke-opacity:1;stroke-miterlimit:10;\" d=\"M 297.378906 320.132813 L 129.691406 248.375 \"/>\n",
       "<path style=\"fill:none;stroke-width:1;stroke-linecap:butt;stroke-linejoin:miter;stroke:rgb(26.666667%,26.666667%,26.666667%);stroke-opacity:1;stroke-miterlimit:10;\" d=\"M 396.808594 50.402344 L 221.445313 20 \"/>\n",
       "<path style=\"fill:none;stroke-width:1;stroke-linecap:butt;stroke-linejoin:miter;stroke:rgb(26.666667%,26.666667%,26.666667%);stroke-opacity:1;stroke-miterlimit:10;\" d=\"M 297.378906 320.132813 L 196.789063 441.261719 \"/>\n",
       "<path style=\"fill:none;stroke-width:1;stroke-linecap:butt;stroke-linejoin:miter;stroke:rgb(26.666667%,26.666667%,26.666667%);stroke-opacity:1;stroke-miterlimit:10;\" d=\"M 396.808594 50.402344 L 412.859375 204.078125 \"/>\n",
       "<path style=\"fill-rule:nonzero;fill:rgb(100%,0%,0%);fill-opacity:1;stroke-width:1;stroke-linecap:butt;stroke-linejoin:miter;stroke:rgb(0%,0%,0%);stroke-opacity:1;stroke-miterlimit:10;\" d=\"M 81.597656 105.683594 C 81.597656 111.203125 77.121094 115.683594 71.597656 115.683594 C 66.074219 115.683594 61.597656 111.203125 61.597656 105.683594 C 61.597656 100.160156 66.074219 95.683594 71.597656 95.683594 C 77.121094 95.683594 81.597656 100.160156 81.597656 105.683594 \"/>\n",
       "<path style=\"fill-rule:nonzero;fill:rgb(100%,0%,0%);fill-opacity:1;stroke-width:1;stroke-linecap:butt;stroke-linejoin:miter;stroke:rgb(0%,0%,0%);stroke-opacity:1;stroke-miterlimit:10;\" d=\"M 30 348.855469 C 30 354.378906 25.523438 358.855469 20 358.855469 C 14.476563 358.855469 10 354.378906 10 348.855469 C 10 343.332031 14.476563 338.855469 20 338.855469 C 25.523438 338.855469 30 343.332031 30 348.855469 \"/>\n",
       "<path style=\"fill-rule:nonzero;fill:rgb(100%,0%,0%);fill-opacity:1;stroke-width:1;stroke-linecap:butt;stroke-linejoin:miter;stroke:rgb(0%,0%,0%);stroke-opacity:1;stroke-miterlimit:10;\" d=\"M 230.09375 580 C 230.09375 585.523438 225.617188 590 220.09375 590 C 214.570313 590 210.09375 585.523438 210.09375 580 C 210.09375 574.476563 214.570313 570 220.09375 570 C 225.617188 570 230.09375 574.476563 230.09375 580 \"/>\n",
       "<path style=\"fill-rule:nonzero;fill:rgb(100%,0%,0%);fill-opacity:1;stroke-width:1;stroke-linecap:butt;stroke-linejoin:miter;stroke:rgb(0%,0%,0%);stroke-opacity:1;stroke-miterlimit:10;\" d=\"M 88.964844 389.878906 C 88.964844 395.402344 84.488281 399.878906 78.964844 399.878906 C 73.445313 399.878906 68.964844 395.402344 68.964844 389.878906 C 68.964844 384.355469 73.445313 379.878906 78.964844 379.878906 C 84.488281 379.878906 88.964844 384.355469 88.964844 389.878906 \"/>\n",
       "<path style=\"fill-rule:nonzero;fill:rgb(100%,0%,0%);fill-opacity:1;stroke-width:1;stroke-linecap:butt;stroke-linejoin:miter;stroke:rgb(0%,0%,0%);stroke-opacity:1;stroke-miterlimit:10;\" d=\"M 266.4375 154.617188 C 266.4375 160.140625 261.960938 164.617188 256.4375 164.617188 C 250.914063 164.617188 246.4375 160.140625 246.4375 154.617188 C 246.4375 149.09375 250.914063 144.617188 256.4375 144.617188 C 261.960938 144.617188 266.4375 149.09375 266.4375 154.617188 \"/>\n",
       "<path style=\"fill-rule:nonzero;fill:rgb(100%,0%,0%);fill-opacity:1;stroke-width:1;stroke-linecap:butt;stroke-linejoin:miter;stroke:rgb(0%,0%,0%);stroke-opacity:1;stroke-miterlimit:10;\" d=\"M 406.808594 50.402344 C 406.808594 55.925781 402.332031 60.402344 396.808594 60.402344 C 391.289063 60.402344 386.808594 55.925781 386.808594 50.402344 C 386.808594 44.878906 391.289063 40.402344 396.808594 40.402344 C 402.332031 40.402344 406.808594 44.878906 406.808594 50.402344 \"/>\n",
       "<path style=\"fill-rule:nonzero;fill:rgb(100%,0%,0%);fill-opacity:1;stroke-width:1;stroke-linecap:butt;stroke-linejoin:miter;stroke:rgb(0%,0%,0%);stroke-opacity:1;stroke-miterlimit:10;\" d=\"M 307.378906 320.132813 C 307.378906 325.65625 302.902344 330.132813 297.378906 330.132813 C 291.855469 330.132813 287.378906 325.65625 287.378906 320.132813 C 287.378906 314.609375 291.855469 310.132813 297.378906 310.132813 C 302.902344 310.132813 307.378906 314.609375 307.378906 320.132813 \"/>\n",
       "<path style=\"fill-rule:nonzero;fill:rgb(100%,0%,0%);fill-opacity:1;stroke-width:1;stroke-linecap:butt;stroke-linejoin:miter;stroke:rgb(0%,0%,0%);stroke-opacity:1;stroke-miterlimit:10;\" d=\"M 590 223.359375 C 590 228.882813 585.523438 233.359375 580 233.359375 C 574.476563 233.359375 570 228.882813 570 223.359375 C 570 217.839844 574.476563 213.359375 580 213.359375 C 585.523438 213.359375 590 217.839844 590 223.359375 \"/>\n",
       "<path style=\"fill-rule:nonzero;fill:rgb(100%,0%,0%);fill-opacity:1;stroke-width:1;stroke-linecap:butt;stroke-linejoin:miter;stroke:rgb(0%,0%,0%);stroke-opacity:1;stroke-miterlimit:10;\" d=\"M 139.691406 248.375 C 139.691406 253.894531 135.214844 258.375 129.691406 258.375 C 124.171875 258.375 119.691406 253.894531 119.691406 248.375 C 119.691406 242.851563 124.171875 238.375 129.691406 238.375 C 135.214844 238.375 139.691406 242.851563 139.691406 248.375 \"/>\n",
       "<path style=\"fill-rule:nonzero;fill:rgb(100%,0%,0%);fill-opacity:1;stroke-width:1;stroke-linecap:butt;stroke-linejoin:miter;stroke:rgb(0%,0%,0%);stroke-opacity:1;stroke-miterlimit:10;\" d=\"M 231.445313 20 C 231.445313 25.523438 226.96875 30 221.445313 30 C 215.921875 30 211.445313 25.523438 211.445313 20 C 211.445313 14.476563 215.921875 10 221.445313 10 C 226.96875 10 231.445313 14.476563 231.445313 20 \"/>\n",
       "<path style=\"fill-rule:nonzero;fill:rgb(100%,0%,0%);fill-opacity:1;stroke-width:1;stroke-linecap:butt;stroke-linejoin:miter;stroke:rgb(0%,0%,0%);stroke-opacity:1;stroke-miterlimit:10;\" d=\"M 206.789063 441.261719 C 206.789063 446.78125 202.3125 451.261719 196.789063 451.261719 C 191.265625 451.261719 186.789063 446.78125 186.789063 441.261719 C 186.789063 435.738281 191.265625 431.261719 196.789063 431.261719 C 202.3125 431.261719 206.789063 435.738281 206.789063 441.261719 \"/>\n",
       "<path style=\"fill-rule:nonzero;fill:rgb(100%,0%,0%);fill-opacity:1;stroke-width:1;stroke-linecap:butt;stroke-linejoin:miter;stroke:rgb(0%,0%,0%);stroke-opacity:1;stroke-miterlimit:10;\" d=\"M 422.859375 204.078125 C 422.859375 209.601563 418.382813 214.078125 412.859375 214.078125 C 407.339844 214.078125 402.859375 209.601563 402.859375 204.078125 C 402.859375 198.554688 407.339844 194.078125 412.859375 194.078125 C 418.382813 194.078125 422.859375 198.554688 422.859375 204.078125 \"/>\n",
       "</g>\n",
       "</svg>\n"
      ],
      "text/plain": [
       "<igraph.drawing.Plot at 0x5ed71d0>"
      ]
     },
     "execution_count": 7,
     "metadata": {},
     "output_type": "execute_result"
    }
   ],
   "source": [
    "cg = graphs[-1]\n",
    "nVertices = len(cg.vs)\n",
    "range(nVertices)\n",
    "nEdges = len(cg.es)\n",
    "\n",
    "tolerance = 0.2\n",
    "\n",
    "volumes = cg.vs[\"volume\"]\n",
    "totalVolume = max(volumes)\n",
    "maxVolume = max(volumes)\n",
    "loadPerCluster = totalVolume * (1 + tolerance) / nClusters\n",
    "edgeWeight = cg.es[\"weight\"]\n",
    "edges = [(e.source, e.target) for e in cg.es]\n",
    "\n",
    "print(edges)\n",
    "print(volumes)\n",
    "ig.plot(cg)"
   ]
  },
  {
   "cell_type": "markdown",
   "metadata": {},
   "source": [
    "## Initialize solver"
   ]
  },
  {
   "cell_type": "code",
   "execution_count": 8,
   "metadata": {},
   "outputs": [],
   "source": [
    "from ortools.linear_solver import pywraplp\n",
    "\n",
    "# Instantiate a mixed-integer solver, naming it SolveIntegerProblem.\n",
    "solver = pywraplp.Solver('SolveIntegerProblem',\n",
    "                           pywraplp.Solver.CBC_MIXED_INTEGER_PROGRAMMING)\n",
    "# print(edges)"
   ]
  },
  {
   "cell_type": "markdown",
   "metadata": {},
   "source": [
    "## Define variables"
   ]
  },
  {
   "cell_type": "code",
   "execution_count": 9,
   "metadata": {},
   "outputs": [],
   "source": [
    "edgecut = {(i,j,k,l): solver.BoolVar('e_{0}_{1}_{2}_{3}'.format(i,j,k,l)) for (i,j) in edges for k in clusters for l in clusters}\n",
    "# print(e)\n",
    "\n",
    "v = [[solver.BoolVar('v_{0}_{1}'.format(i,k)) for k in clusters] for i in vertices]\n",
    "# print(v)"
   ]
  },
  {
   "cell_type": "markdown",
   "metadata": {},
   "source": [
    "## Define objective function"
   ]
  },
  {
   "cell_type": "code",
   "execution_count": 23,
   "metadata": {},
   "outputs": [
    {
     "name": "stdout",
     "output_type": "stream",
     "text": [
      "0.0\n",
      "25.455159100417358\n",
      "25.455159100417358\n",
      "0.0\n",
      "0.0\n",
      "25.455159100417358\n",
      "25.455159100417358\n",
      "0.0\n",
      "0.0\n",
      "31.60703870412962\n",
      "31.60703870412962\n",
      "0.0\n",
      "0.0\n",
      "31.60703870412962\n",
      "31.60703870412962\n",
      "0.0\n",
      "0.0\n",
      "36.865879572611476\n",
      "36.865879572611476\n",
      "0.0\n",
      "0.0\n",
      "76.5680624360855\n",
      "76.5680624360855\n",
      "0.0\n",
      "0.0\n",
      "76.5680624360855\n",
      "76.5680624360855\n",
      "0.0\n",
      "0.0\n",
      "31.079075161513966\n",
      "31.079075161513966\n",
      "0.0\n",
      "0.0\n",
      "31.079075161513966\n",
      "31.079075161513966\n",
      "0.0\n",
      "0.0\n",
      "30.255671435406974\n",
      "30.255671435406974\n",
      "0.0\n",
      "0.0\n",
      "74.00945482404852\n",
      "74.00945482404852\n",
      "0.0\n",
      "0.0\n",
      "31.079075161513966\n",
      "31.079075161513966\n",
      "0.0\n",
      "0.0\n",
      "30.255671435406974\n",
      "30.255671435406974\n",
      "0.0\n",
      "0.0\n",
      "55.42468331312211\n",
      "55.42468331312211\n",
      "0.0\n",
      "0.0\n",
      "30.255671435406974\n",
      "30.255671435406974\n",
      "0.0\n",
      "0.0\n",
      "55.42468331312211\n",
      "55.42468331312211\n",
      "0.0\n"
     ]
    }
   ],
   "source": [
    "objective = solver.Objective()\n",
    "for (i,j) in edges:\n",
    "    for k in clusters:\n",
    "        for l in clusters:\n",
    "            #print((volumes[i]+volumes[j]) * cost[k,l])\n",
    "            objective.SetCoefficient(edgecut[(i,j,k,l)], (volumes[i]+volumes[j]) * cost[k,l])\n",
    "            print(objective.GetCoefficient(edgecut[(i,j,k,l)]))\n",
    "            \n",
    "objective.SetMinimization()"
   ]
  },
  {
   "cell_type": "markdown",
   "metadata": {},
   "source": [
    "## Define constraints"
   ]
  },
  {
   "cell_type": "code",
   "execution_count": 16,
   "metadata": {},
   "outputs": [
    {
     "name": "stdout",
     "output_type": "stream",
     "text": [
      "<ortools.linear_solver.pywraplp.Objective; proxy of <Swig Object of type 'operations_research::MPObjective *' at 0x0000000005E9EEA0> >\n"
     ]
    }
   ],
   "source": [
    "# All the vertices are in one partition\n",
    "distributed = [solver.Constraint(1., 1.) for i in vertices]\n",
    "for i in vertices:\n",
    "    for k in clusters:\n",
    "        distributed[i].SetCoefficient(v[i][k], 1.)\n",
    "        \n",
    "# Balance out the partition load\n",
    "balance = [solver.Constraint(-solver.infinity(), loadPerCluster) for k in clusters]\n",
    "for k in clusters:\n",
    "    for i in vertices:\n",
    "        balance[k].SetCoefficient(v[i][k], volumes[i])\n",
    "\n",
    "# Linearisation of v_i_k * v_j_l = e_i_j_k_l\n",
    "lin1 = {(i,j): [[solver.Constraint(-solver.infinity(), 0) for l in clusters] for k in clusters] for (i,j) in edges}\n",
    "lin2 = {(i,j): [[solver.Constraint(-solver.infinity(), 0) for l in clusters] for k in clusters] for (i,j) in edges}\n",
    "lin3 = {(i,j): [[solver.Constraint(-1, solver.infinity()) for l in clusters] for k in clusters] for (i,j) in edges}\n",
    "for (i,j) in edges:\n",
    "    for k in clusters:\n",
    "        for l in clusters:\n",
    "            lin1[(i,j)][k][l].SetCoefficient(edgecut[(i,j,k,l)], 1)\n",
    "            lin1[(i,j)][k][l].SetCoefficient(v[i][k], -1)\n",
    "            lin2[(i,j)][k][l].SetCoefficient(edgecut[(i,j,k,l)], 1)\n",
    "            lin2[(i,j)][k][l].SetCoefficient(v[j][l], -1)\n",
    "            lin3[(i,j)][k][l].SetCoefficient(edgecut[(i,j,k,l)], 1)\n",
    "            lin3[(i,j)][k][l].SetCoefficient(v[i][k], -1)\n",
    "            lin3[(i,j)][k][l].SetCoefficient(v[j][l], -1)\n",
    "print(objective)"
   ]
  },
  {
   "cell_type": "markdown",
   "metadata": {},
   "source": [
    "# Solve and get partition"
   ]
  },
  {
   "cell_type": "code",
   "execution_count": 12,
   "metadata": {},
   "outputs": [
    {
     "name": "stdout",
     "output_type": "stream",
     "text": [
      "Number of variables = 88\n",
      "Number of constraints = 206\n",
      "Optimal objective value = 0\n",
      "\n"
     ]
    }
   ],
   "source": [
    "result_status = solver.Solve()\n",
    "# The problem has an optimal solution.\n",
    "# assert result_status == pywraplp.Solver.OPTIMAL\n",
    "# assert(solver.VerifySolution(1e-7, True))\n",
    "\n",
    "print('Number of variables =', solver.NumVariables())\n",
    "print('Number of constraints =', solver.NumConstraints())\n",
    "\n",
    "# The objective value of the solution.\n",
    "print('Optimal objective value = %d' % solver.Objective().Value())\n",
    "print()"
   ]
  },
  {
   "cell_type": "code",
   "execution_count": 13,
   "metadata": {},
   "outputs": [
    {
     "name": "stdout",
     "output_type": "stream",
     "text": [
      "Placement:\n",
      "0.0\n",
      "0.0\n",
      "0.0\n",
      "0.0\n",
      "0.0\n",
      "0.0\n",
      "0.0\n",
      "0.0\n",
      "0.0\n",
      "0.0\n",
      "0.0\n",
      "0.0\n",
      "0.0\n",
      "0.0\n",
      "0.0\n",
      "0.0\n",
      "0.0\n",
      "0.0\n",
      "0.0\n",
      "0.0\n",
      "0.0\n",
      "0.0\n",
      "0.0\n",
      "0.0\n"
     ]
    },
    {
     "ename": "IndexError",
     "evalue": "list index out of range",
     "output_type": "error",
     "traceback": [
      "\u001b[1;31m---------------------------------------------------------------------------\u001b[0m",
      "\u001b[1;31mIndexError\u001b[0m                                Traceback (most recent call last)",
      "\u001b[1;32m<ipython-input-13-5ef186c25111>\u001b[0m in \u001b[0;36m<module>\u001b[1;34m()\u001b[0m\n\u001b[0;32m     14\u001b[0m \u001b[0mcutEdges\u001b[0m \u001b[1;33m=\u001b[0m \u001b[1;33m[\u001b[0m\u001b[1;33m]\u001b[0m\u001b[1;33m\u001b[0m\u001b[0m\n\u001b[0;32m     15\u001b[0m \u001b[1;32mfor\u001b[0m \u001b[0me\u001b[0m \u001b[1;32min\u001b[0m \u001b[0mcg\u001b[0m\u001b[1;33m.\u001b[0m\u001b[0mes\u001b[0m\u001b[1;33m:\u001b[0m\u001b[1;33m\u001b[0m\u001b[0m\n\u001b[1;32m---> 16\u001b[1;33m     \u001b[1;32mif\u001b[0m \u001b[0mplacement\u001b[0m\u001b[1;33m[\u001b[0m\u001b[0me\u001b[0m\u001b[1;33m.\u001b[0m\u001b[0msource\u001b[0m\u001b[1;33m]\u001b[0m \u001b[1;33m!=\u001b[0m \u001b[0mplacement\u001b[0m\u001b[1;33m[\u001b[0m\u001b[0me\u001b[0m\u001b[1;33m.\u001b[0m\u001b[0mtarget\u001b[0m\u001b[1;33m]\u001b[0m\u001b[1;33m:\u001b[0m\u001b[1;33m\u001b[0m\u001b[0m\n\u001b[0m\u001b[0;32m     17\u001b[0m         \u001b[0mcutEdges\u001b[0m\u001b[1;33m.\u001b[0m\u001b[0mappend\u001b[0m\u001b[1;33m(\u001b[0m\u001b[1;32mTrue\u001b[0m\u001b[1;33m)\u001b[0m\u001b[1;33m\u001b[0m\u001b[0m\n\u001b[0;32m     18\u001b[0m     \u001b[1;32melse\u001b[0m\u001b[1;33m:\u001b[0m\u001b[1;33m\u001b[0m\u001b[0m\n",
      "\u001b[1;31mIndexError\u001b[0m: list index out of range"
     ]
    }
   ],
   "source": [
    "print(\"Placement:\")\n",
    "placement = []\n",
    "\n",
    "for i in vertices:\n",
    "    for k in clusters:\n",
    "        print(v[i][k].solution_value())\n",
    "\n",
    "for i in vertices:\n",
    "    for k in clusters:\n",
    "        if v[i][k].solution_value() > 0.5:\n",
    "            print(\"{0} --> {1}\".format(cg.vs[\"name\"][i],k))\n",
    "            placement.append(k)\n",
    "            \n",
    "cutEdges = []\n",
    "for e in cg.es:\n",
    "    if placement[e.source] != placement[e.target]:\n",
    "        cutEdges.append(True)\n",
    "    else:\n",
    "        cutEdges.append(False)\n",
    "            \n",
    "color_dict_vertex = {0: \"blue\", 1: \"red\", 2: \"green\", 3: \"pink\", 4: \"orange\" }\n",
    "visual_style = {}\n",
    "visual_style[\"layout\"] = layout\n",
    "visual_style[\"vertex_label\"] = cg.vs[\"name\"]\n",
    "visual_style[\"vertex_size\"] = 20\n",
    "visual_style[\"bbox\"] = (400, 400)\n",
    "visual_style[\"margin\"] = 100\n",
    "visual_style[\"vertex_size\"] = [20 + volumes[i]*50/(2*maxVolume) for i in vertices]\n",
    "visual_style[\"vertex_color\"] = [color_dict_vertex[placement[i]] for i in vertices]\n",
    "visual_style[\"edge_color\"] = [\"black\" if cutEdges[i] else color_dict_vertex[placement[cg.es[i].source]] for i in range(nEdges)]\n",
    "ig.plot(cg, **visual_style)"
   ]
  }
 ],
 "metadata": {
  "kernelspec": {
   "display_name": "Python 3",
   "language": "python",
   "name": "python3"
  },
  "language_info": {
   "codemirror_mode": {
    "name": "ipython",
    "version": 3
   },
   "file_extension": ".py",
   "mimetype": "text/x-python",
   "name": "python",
   "nbconvert_exporter": "python",
   "pygments_lexer": "ipython3",
   "version": "3.6.4"
  }
 },
 "nbformat": 4,
 "nbformat_minor": 2
}
